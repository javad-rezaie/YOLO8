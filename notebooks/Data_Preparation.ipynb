{
 "cells": [
  {
   "cell_type": "code",
   "execution_count": 39,
   "metadata": {},
   "outputs": [],
   "source": [
    "import json\n",
    "from tqdm import tqdm"
   ]
  },
  {
   "cell_type": "markdown",
   "metadata": {},
   "source": [
    "## Download data:\n",
    "### Download and unzip datasets from https://github.com/nightrome/cocostuff10k?tab=readme-ov-file to the current folder"
   ]
  },
  {
   "cell_type": "code",
   "execution_count": 2,
   "metadata": {},
   "outputs": [],
   "source": [
    "with open(\"/data/cocostuff-10k-v1.1.json\", \"rb\") as f:\n",
    "    data = json.load(f)"
   ]
  },
  {
   "cell_type": "code",
   "execution_count": 7,
   "metadata": {},
   "outputs": [],
   "source": [
    "with open(\"/data/imageLists/train.txt\", \"r\") as f:\n",
    "    train_images = f.readlines()\n",
    "train_images = [img.strip() for img in train_images]\n",
    "with open(\"/data/imageLists/test.txt\", \"r\") as f:\n",
    "    test_images = f.readlines()\n",
    "test_images = [img.strip() for img in test_images]"
   ]
  },
  {
   "cell_type": "code",
   "execution_count": 16,
   "metadata": {},
   "outputs": [
    {
     "data": {
      "text/plain": [
       "dict_keys(['info', 'images', 'licenses', 'categories', 'annotations'])"
      ]
     },
     "execution_count": 16,
     "metadata": {},
     "output_type": "execute_result"
    }
   ],
   "source": [
    "data.keys()"
   ]
  },
  {
   "cell_type": "code",
   "execution_count": 19,
   "metadata": {},
   "outputs": [
    {
     "data": {
      "text/plain": [
       "{'coco_url': 'http://mscoco.org/images/57870',\n",
       " 'date_captured': '2013-11-14 16:28:13',\n",
       " 'file_name': 'COCO_train2014_000000057870.jpg',\n",
       " 'flickr_url': 'http://farm4.staticflickr.com/3153/2970773875_164f0c0b83_z.jpg',\n",
       " 'height': 480,\n",
       " 'id': 57870,\n",
       " 'license': 5,\n",
       " 'width': 640}"
      ]
     },
     "execution_count": 19,
     "metadata": {},
     "output_type": "execute_result"
    }
   ],
   "source": [
    "data[\"images\"][0]"
   ]
  },
  {
   "cell_type": "code",
   "execution_count": 21,
   "metadata": {},
   "outputs": [
    {
     "data": {
      "text/plain": [
       "dict_keys(['area', 'bbox', 'category_id', 'id', 'image_id', 'iscrowd', 'segmentation'])"
      ]
     },
     "execution_count": 21,
     "metadata": {},
     "output_type": "execute_result"
    }
   ],
   "source": [
    "data[\"annotations\"][0].keys()"
   ]
  },
  {
   "cell_type": "code",
   "execution_count": 79,
   "metadata": {},
   "outputs": [
    {
     "name": "stderr",
     "output_type": "stream",
     "text": [
      "100%|█████████████████████████████████████████████████████████████████████████████████████████████████████████████████████████████████████████████████████████████████████████████████████████████████████████████████████████████████████████████████████████████████████████████████████████████████| 10000/10000 [03:39<00:00, 45.49it/s]\n"
     ]
    }
   ],
   "source": [
    "train_coco = {}\n",
    "train_coco[\"images\"] = []\n",
    "train_coco[\"annotations\"] = []\n",
    "train_coco[\"categories\"] = data[\"categories\"]\n",
    "test_coco = {}\n",
    "test_coco[\"images\"] = []\n",
    "test_coco[\"annotations\"] = []\n",
    "test_coco[\"categories\"] = data[\"categories\"]\n",
    "for img in tqdm(data[\"images\"]):\n",
    "    if img[\"file_name\"].split(\".\")[0] in train_images:\n",
    "        train_coco[\"images\"].append(img)\n",
    "        img_id = img[\"id\"]\n",
    "        for ann in data[\"annotations\"]:\n",
    "            if ann[\"image_id\"] == img_id:\n",
    "                if ann[\"iscrowd\"] == 1:\n",
    "                    continue\n",
    "                if len(ann[\"bbox\"]) == 1:\n",
    "                    ann[\"bbox\"] = ann[\"bbox\"][0]\n",
    "                train_coco[\"annotations\"].append(ann)\n",
    "    elif img[\"file_name\"].split(\".\")[0] in test_images:\n",
    "        test_coco[\"images\"].append(img)\n",
    "        img_id = img[\"id\"]\n",
    "        for ann in data[\"annotations\"]:\n",
    "            if ann[\"image_id\"] == img_id:\n",
    "                if ann[\"iscrowd\"] == 1:\n",
    "                    continue\n",
    "                if len(ann[\"bbox\"]) == 1:\n",
    "                    ann[\"bbox\"] = ann[\"bbox\"][0]\n",
    "                test_coco[\"annotations\"].append(ann)\n",
    "    else:\n",
    "        print(img)"
   ]
  },
  {
   "cell_type": "code",
   "execution_count": 80,
   "metadata": {},
   "outputs": [],
   "source": [
    "with open(\"/data/train_coco.json\", \"w\") as f:\n",
    "    json.dump(train_coco, f)"
   ]
  },
  {
   "cell_type": "code",
   "execution_count": 81,
   "metadata": {},
   "outputs": [],
   "source": [
    "with open(\"/data/test_coco.json\", \"w\") as f:\n",
    "    json.dump(test_coco, f)"
   ]
  },
  {
   "cell_type": "code",
   "execution_count": null,
   "metadata": {},
   "outputs": [],
   "source": []
  }
 ],
 "metadata": {
  "kernelspec": {
   "display_name": "Python 3 (ipykernel)",
   "language": "python",
   "name": "python3"
  },
  "language_info": {
   "codemirror_mode": {
    "name": "ipython",
    "version": 3
   },
   "file_extension": ".py",
   "mimetype": "text/x-python",
   "name": "python",
   "nbconvert_exporter": "python",
   "pygments_lexer": "ipython3",
   "version": "3.10.11"
  }
 },
 "nbformat": 4,
 "nbformat_minor": 4
}
